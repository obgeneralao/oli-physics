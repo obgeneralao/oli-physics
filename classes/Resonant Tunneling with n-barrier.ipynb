{
 "cells": [
  {
   "cell_type": "code",
   "execution_count": 1,
   "metadata": {
    "ExecuteTime": {
     "end_time": "2016-03-15T07:52:45.166354",
     "start_time": "2016-03-15T07:52:32.022977"
    },
    "collapsed": false
   },
   "outputs": [
    {
     "data": {
      "application/javascript": [
       "require(['codemirror/mode/clike/clike'], function(Clike) { console.log('ROOTaaS - C++ CodeMirror module loaded'); });"
      ]
     },
     "metadata": {},
     "output_type": "display_data"
    },
    {
     "data": {
      "application/javascript": [
       "IPython.CodeCell.config_defaults.highlight_modes['magic_text/x-c++src'] = {'reg':[/^%%cpp/]};"
      ]
     },
     "metadata": {},
     "output_type": "display_data"
    },
    {
     "name": "stdout",
     "output_type": "stream",
     "text": [
      "Welcome to ROOTaaS 6.06/01\n"
     ]
    }
   ],
   "source": [
    "from nbarrier import n_barrier\n",
    "from ROOT import TCanvas, TGraph\n",
    "\n",
    "import ROOT\n",
    "import numpy as np\n",
    "\n",
    "ROOT.gROOT.Reset()"
   ]
  },
  {
   "cell_type": "code",
   "execution_count": 2,
   "metadata": {
    "ExecuteTime": {
     "end_time": "2016-03-15T07:52:45.180034",
     "start_time": "2016-03-15T07:52:45.170243"
    },
    "collapsed": true
   },
   "outputs": [],
   "source": [
    "barrier = 2             # number of potential barriers\n",
    "barrier_width = 10e-9   # barrier width (m), 10 Angstrom = 1e-9m = 1nm\n",
    "well_width    = 4e-9    # well width (m)\n",
    "V0 = 0.240              # barrier energy (eV),height of barrier\n",
    "                        # 1 eV = 1.60217733e-19 J\n",
    "Emax    =  V0 + 0.1\n",
    "npoints = 100000          # number of points in energy plot\n"
   ]
  },
  {
   "cell_type": "code",
   "execution_count": 3,
   "metadata": {
    "ExecuteTime": {
     "end_time": "2016-03-15T07:53:13.396561",
     "start_time": "2016-03-15T07:52:45.185844"
    },
    "collapsed": false
   },
   "outputs": [],
   "source": [
    "initial_value = n_barrier(barrier,barrier_width,well_width,V0,npoints,Emax)\n",
    "\n",
    "Trans, E = initial_value.transmission()"
   ]
  },
  {
   "cell_type": "code",
   "execution_count": 4,
   "metadata": {
    "ExecuteTime": {
     "end_time": "2016-03-15T07:54:39.301174",
     "start_time": "2016-03-15T07:53:13.401348"
    },
    "collapsed": false
   },
   "outputs": [
    {
     "data": {
      "image/png": "[encoded data removed]",
      "text/plain": [
       "<IPython.core.display.Image object>"
      ]
     },
     "metadata": {},
     "output_type": "display_data"
    }
   ],
   "source": [
    "c1 = TCanvas( 'c1', 'A Simple Graph Example', 200, 10, 700, 500 )\n",
    "\n",
    "c1.SetFillColor( 42 )\n",
    "c1.SetGrid()\n",
    "\n",
    "gr = TGraph( npoints, E, np.log(Trans) )\n",
    "#gr.SetLineColor( 2 )\n",
    "gr.SetLineWidth( 4 )\n",
    "#gr.SetMarkerColor( 4 )\n",
    "#gr.SetMarkerStyle( 21 )\n",
    "gr.SetTitle( 'Transmission at n-barrier' )\n",
    "gr.GetXaxis().SetTitle( 'Energy (eV)' )\n",
    "gr.GetXaxis().CenterTitle()\n",
    "# gr.GetXaxis().SetBinLabel(1,\"test\")\n",
    "# gr.GetXaxis().SetBinLabel(5,\"test2\")\n",
    "# gr.GetXaxis().SetBinLabel(10,\"test3\")\n",
    "\n",
    "\n",
    "gr.GetYaxis().CenterTitle()\n",
    "gr.GetYaxis().SetTitle( 'ln of Transmission' )\n",
    "gr.GetYaxis().SetRangeUser(-30.0,0.0 )\n",
    "gr.Draw( 'ACP' )\n",
    "\n",
    "# TCanvas.Update() draws the frame, after which one can change it\n",
    "c1.Update()\n",
    "c1.GetFrame().SetFillColor( 21 )\n",
    "c1.GetFrame().SetBorderSize( 12 )\n",
    "c1.Modified()\n",
    "c1.Update()\n",
    "c1.Draw()"
   ]
  },
  {
   "cell_type": "code",
   "execution_count": 5,
   "metadata": {
    "ExecuteTime": {
     "end_time": "2016-03-15T07:54:39.317370",
     "start_time": "2016-03-15T07:54:39.304985"
    },
    "collapsed": false
   },
   "outputs": [
    {
     "name": "stdout",
     "output_type": "stream",
     "text": [
      "The transmitted electron has energy 302.67 meV\n"
     ]
    }
   ],
   "source": [
    "max_index=np.argmax(np.log(Trans))\n",
    "print 'The transmitted electron has energy %.2f meV' % (E[max_index]*1000)\n"
   ]
  },
  {
   "cell_type": "code",
   "execution_count": null,
   "metadata": {
    "collapsed": true
   },
   "outputs": [],
   "source": []
  },
  {
   "cell_type": "code",
   "execution_count": null,
   "metadata": {
    "collapsed": true
   },
   "outputs": [],
   "source": []
  }
 ],
 "metadata": {
  "kernelspec": {
   "display_name": "Python 2",
   "language": "python",
   "name": "python2"
  },
  "language_info": {
   "codemirror_mode": {
    "name": "ipython",
    "version": 2
   },
   "file_extension": ".py",
   "mimetype": "text/x-python",
   "name": "python",
   "nbconvert_exporter": "python",
   "pygments_lexer": "ipython2",
   "version": "2.7.11"
  },
  "latex_envs": {
   "bibliofile": "biblio.bib",
   "cite_by": "apalike",
   "current_citInitial": 1,
   "eqLabelWithNumbers": true,
   "eqNumInitial": 0
  },
  "toc": {
   "toc_cell": false,
   "toc_number_sections": true,
   "toc_threshold": 4,
   "toc_window_display": false
  }
 },
 "nbformat": 4,
 "nbformat_minor": 0
}
